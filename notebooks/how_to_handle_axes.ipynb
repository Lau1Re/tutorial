{
 "cells": [
  {
   "cell_type": "markdown",
   "metadata": {},
   "source": [
    "# The use of axes\n",
    "\n",
    "Axes are a great option to add at the scenario declaration in order to make a variable v evolves in a given interval.\n",
    "\n",
    "We'll show this opportunity with the illustration of the evolution of average rate and marginal rate of the French Income Tax"
   ]
  },
  {
   "cell_type": "markdown",
   "metadata": {},
   "source": [
    "#### Initialisation"
   ]
  },
  {
   "cell_type": "markdown",
   "metadata": {},
   "source": [
    "We import essential modules and initialize the tax and benefit system\n"
   ]
  },
  {
   "cell_type": "code",
   "execution_count": 1,
   "metadata": {},
   "outputs": [],
   "source": [
    "%matplotlib inline\n",
    "import matplotlib.pyplot as plt"
   ]
  },
  {
   "cell_type": "code",
   "execution_count": 2,
   "metadata": {},
   "outputs": [],
   "source": [
    "from openfisca_france import FranceTaxBenefitSystem   \n",
    "tax_benefit_system = FranceTaxBenefitSystem()  # Create an instance of French Tax and Benefit system"
   ]
  },
  {
   "cell_type": "markdown",
   "metadata": {},
   "source": [
    "## Income Tax Concavity : a progressive system ?\n",
    "\n",
    "Let's observe how to declare a scenario  with an income evolving between 0 euros and 100000 euros per year."
   ]
  },
  {
   "cell_type": "code",
   "execution_count": 3,
   "metadata": {},
   "outputs": [],
   "source": [
    "from openfisca_france.scenarios import init_single_entity\n",
    "\n",
    "scenario = tax_benefit_system.new_scenario()\n",
    "\n",
    "init_single_entity(scenario,\n",
    "    \n",
    "    # Axe declaration\n",
    "    axes = [[\n",
    "        dict(                       #  in a dictionary\n",
    "            count = 100,            # 'count' : indicates the number of step\n",
    "            min = 0,\n",
    "            max = 100000,\n",
    "            name = 'salaire_de_base', # the variable you want to make evolve\n",
    "            ),\n",
    "        ]],\n",
    "    \n",
    "    \n",
    "    period = 2018,\n",
    "     parent1 = dict(\n",
    "        date_naissance = '1980-01-01',\n",
    "         )\n",
    "    )\n",
    "\n",
    "simulation = scenario.new_simulation()"
   ]
  },
  {
   "cell_type": "code",
   "execution_count": 4,
   "metadata": {},
   "outputs": [
    {
     "data": {
      "text/plain": [
       "array([     0.     ,   1010.10114,   2020.2023 ,   3030.3027 ,\n",
       "         4040.4045 ,   5050.5054 ,   6060.6055 ,   7070.707  ,\n",
       "         8080.809  ,   9090.909  ,  10101.011  ,  11111.11   ,\n",
       "        12121.211  ,  13131.315  ,  14141.414  ,  15151.515  ,\n",
       "        16161.618  ,  17171.717  ,  18181.818  ,  19191.918  ,\n",
       "        20202.021  ,  21212.121  ,  22222.22   ,  23232.326  ,\n",
       "        24242.422  ,  25252.525  ,  26262.63   ,  27272.725  ,\n",
       "        28282.828  ,  29292.932  ,  30303.03   ,  31313.13   ,\n",
       "        32323.236  ,  33333.332  ,  34343.434  ,  35353.54   ,\n",
       "        36363.637  ,  37373.74   ,  38383.836  ,  39393.938  ,\n",
       "        40404.043  ,  41414.14   ,  42424.242  ,  43434.344  ,\n",
       "        44444.44   ,  45454.547  ,  46464.652  ,  47474.75   ,\n",
       "        48484.844  ,  49494.94   ,  50505.05   ,  51515.152  ,\n",
       "        52525.26   ,  53535.363  ,  54545.45   ,  55555.55   ,\n",
       "        56565.656  ,  57575.76   ,  58585.863  ,  59595.953  ,\n",
       "        60606.06   ,  61616.16   ,  62626.26   ,  63636.37   ,\n",
       "        64646.473  ,  65656.555  ,  66666.664  ,  67676.766  ,\n",
       "        68686.87   ,  69696.98   ,  70707.08   ,  71717.164  ,\n",
       "        72727.27   ,  73737.375  ,  74747.48   ,  75757.586  ,\n",
       "        76767.67   ,  77777.78   ,  78787.875  ,  79797.97   ,\n",
       "        80808.086  ,  81818.164  ,  82828.28   ,  83838.38   ,\n",
       "        84848.484  ,  85858.586  ,  86868.69   ,  87878.805  ,\n",
       "        88888.88   ,  89899.     ,  90909.09   ,  91919.19   ,\n",
       "        92929.305  ,  93939.38   ,  94949.5    ,  95959.59   ,\n",
       "        96969.69   ,  97979.805  ,  98989.88   , 100000.01   ],\n",
       "      dtype=float32)"
      ]
     },
     "execution_count": 4,
     "metadata": {},
     "output_type": "execute_result"
    }
   ],
   "source": [
    "simulation.calculate_add('salaire_de_base', 2018)"
   ]
  },
  {
   "cell_type": "code",
   "execution_count": 5,
   "metadata": {},
   "outputs": [],
   "source": [
    "income_tax = - simulation.calculate('irpp', 2018)\n",
    "gross_wage = simulation.calculate_add('salaire_de_base', 2018)\n",
    "taxable_income = simulation.calculate_add('salaire_imposable', 2018)\n"
   ]
  },
  {
   "cell_type": "code",
   "execution_count": 6,
   "metadata": {},
   "outputs": [
    {
     "data": {
      "text/plain": [
       "Text(0.5, 0, 'Gross Wage')"
      ]
     },
     "execution_count": 6,
     "metadata": {},
     "output_type": "execute_result"
    },
    {
     "data": {
      "image/png": "[encoded data removed]",
      "text/plain": [
       "<Figure size 432x288 with 1 Axes>"
      ]
     },
     "metadata": {
      "needs_background": "light"
     },
     "output_type": "display_data"
    }
   ],
   "source": [
    "plt.plot(gross_wage,income_tax)\n",
    "plt.ylabel(u\"Tax Income\")\n",
    "plt.xlabel(u\"Gross Wage\")"
   ]
  },
  {
   "cell_type": "markdown",
   "metadata": {},
   "source": [
    "**NB** : The Income Tax is flat in opposite to common opinion."
   ]
  },
  {
   "cell_type": "markdown",
   "metadata": {},
   "source": [
    "## Average rate"
   ]
  },
  {
   "cell_type": "code",
   "execution_count": 7,
   "metadata": {},
   "outputs": [
    {
     "name": "stderr",
     "output_type": "stream",
     "text": [
      "/usr/local/lib/python3.7/site-packages/ipykernel_launcher.py:1: RuntimeWarning: invalid value encountered in true_divide\n",
      "  \"\"\"Entry point for launching an IPython kernel.\n"
     ]
    }
   ],
   "source": [
    "average_rate = income_tax / gross_wage\n",
    "# the 1st value of gross_wage is zero, so there's a warning"
   ]
  },
  {
   "cell_type": "code",
   "execution_count": 8,
   "metadata": {},
   "outputs": [
    {
     "data": {
      "text/plain": [
       "Text(0.5, 0, 'Gross Wage')"
      ]
     },
     "execution_count": 8,
     "metadata": {},
     "output_type": "execute_result"
    },
    {
     "data": {
      "image/png": "[encoded data removed]",
      "text/plain": [
       "<Figure size 432x288 with 1 Axes>"
      ]
     },
     "metadata": {
      "needs_background": "light"
     },
     "output_type": "display_data"
    }
   ],
   "source": [
    "plt.plot(gross_wage, average_rate)\n",
    "plt.ylabel(\"Averate Tax Rate\")\n",
    "plt.xlabel(\"Gross Wage\")"
   ]
  },
  {
   "cell_type": "markdown",
   "metadata": {},
   "source": [
    "## Marginal rate"
   ]
  },
  {
   "cell_type": "code",
   "execution_count": 9,
   "metadata": {},
   "outputs": [],
   "source": [
    "marginal_rate =  (income_tax[:-1] - income_tax[1:]) / (taxable_income[:-1] - taxable_income[1:] ) "
   ]
  },
  {
   "cell_type": "code",
   "execution_count": 10,
   "metadata": {},
   "outputs": [
    {
     "data": {
      "text/plain": [
       "Text(0.5, 0, 'Gross Wage')"
      ]
     },
     "execution_count": 10,
     "metadata": {},
     "output_type": "execute_result"
    },
    {
     "data": {
      "image/png": "[encoded data removed]",
      "text/plain": [
       "<Figure size 432x288 with 1 Axes>"
      ]
     },
     "metadata": {
      "needs_background": "light"
     },
     "output_type": "display_data"
    }
   ],
   "source": [
    "plt.plot(gross_wage[:-1], marginal_rate)\n",
    "plt.ylabel(\"Marginal Tax Rate\")\n",
    "plt.xlabel(\"Gross Wage\")"
   ]
  },
  {
   "cell_type": "code",
   "execution_count": 11,
   "metadata": {},
   "outputs": [
    {
     "data": {
      "text/plain": [
       "(0.2517387, 0.27008486)"
      ]
     },
     "execution_count": 11,
     "metadata": {},
     "output_type": "execute_result"
    }
   ],
   "source": [
    "marginal_rate[25], marginal_rate[90]"
   ]
  },
  {
   "cell_type": "markdown",
   "metadata": {},
   "source": [
    "We can see the step in the French Tax scale of 14% and 30% (applied after a 10% deduction on the taxable income) "
   ]
  },
  {
   "cell_type": "markdown",
   "metadata": {},
   "source": [
    "### Notice :  dedicated fonctions in OpenFisca"
   ]
  },
  {
   "cell_type": "markdown",
   "metadata": {},
   "source": [
    "Marginal and Average rate exist as functions implemented in OpenFisca. You can apply them on several income concept"
   ]
  },
  {
   "cell_type": "code",
   "execution_count": 12,
   "metadata": {},
   "outputs": [],
   "source": [
    "from openfisca_core.rates import average_rate, marginal_rate"
   ]
  },
  {
   "cell_type": "code",
   "execution_count": 13,
   "metadata": {},
   "outputs": [
    {
     "data": {
      "text/plain": [
       "array([    0.     ,   -91.30643,  -182.60178,  -273.90817,  -365.21463,\n",
       "        -456.50998,  -547.81635,  -639.12286,  -730.42926,  -821.7246 ,\n",
       "        -913.031  , -1004.3375 , -1095.6327 , -1186.9392 , -1278.2457 ,\n",
       "       -1369.541  , -1460.8475 , -1552.1538 , -1643.4492 , -1734.7556 ,\n",
       "       -1826.062  , -1917.3682 , -2008.6638 , -2099.97   , -2191.2769 ,\n",
       "       -2282.5723 , -2373.8784 , -2465.1846 , -2556.4802 , -2647.7861 ,\n",
       "       -2739.0933 , -2830.388  , -2921.695  , -3013.001  , -3104.3076 ,\n",
       "       -3195.6025 , -3286.9094 , -3378.216  , -3469.5112 , -3560.8171 ,\n",
       "       -3652.124  , -3743.42   , -3834.7253 , -3926.0322 , -4017.3389 ,\n",
       "       -4108.6343 , -4199.94   , -4291.2466 , -4382.5425 , -4473.849  ,\n",
       "       -4565.155  , -4656.45   , -4747.757  , -4839.064  , -4930.3594 ,\n",
       "       -5021.665  , -5112.9717 , -5204.2773 , -5295.5723 , -5386.88   ,\n",
       "       -5478.1865 , -5569.482  , -5660.787  , -5752.094  , -5843.39   ,\n",
       "       -5934.697  , -6026.002  , -6117.298  , -6208.6045 , -6299.911  ,\n",
       "       -6391.217  , -6482.5127 , -6573.819  , -6665.1265 , -6756.42   ,\n",
       "       -6847.7275 , -6939.0337 , -7030.329  , -7121.6343 , -7212.942  ,\n",
       "       -7304.236  , -7395.5425 , -7486.849  , -7578.1562 , -7669.4507 ,\n",
       "       -7760.7583 , -7852.0645 , -7943.3604 , -8034.666  , -8125.9717 ,\n",
       "       -8217.269  , -8308.575  , -8399.88   , -8491.187  , -8582.483  ,\n",
       "       -8673.788  , -8765.095  , -8856.392  , -8947.698  , -9039.002  ],\n",
       "      dtype=float32)"
      ]
     },
     "execution_count": 13,
     "metadata": {},
     "output_type": "execute_result"
    }
   ],
   "source": [
    "csg = simulation.calculate_add('csg', period = 2018)\n",
    "csg"
   ]
  },
  {
   "cell_type": "code",
   "execution_count": 14,
   "metadata": {},
   "outputs": [
    {
     "data": {
      "text/plain": [
       "array([0.09039336, 0.09038788, 0.09038973, 0.09039062, 0.09038895,\n",
       "       0.09038973, 0.09039021, 0.09039062, 0.09038973, 0.09039009,\n",
       "       0.09039038, 0.09038973, 0.09038997, 0.09039021, 0.09038973,\n",
       "       0.09038991, 0.09039015, 0.09038973, 0.09038991, 0.09039009,\n",
       "       0.09039021, 0.09038985, 0.09038997, 0.09039021, 0.09038985,\n",
       "       0.09038997, 0.09039009, 0.09038985, 0.09038991, 0.09039009,\n",
       "       0.09038979, 0.09038991, 0.09039003, 0.09039015, 0.09038991,\n",
       "       0.09039003, 0.09039009, 0.09038991, 0.09038997, 0.09039009,\n",
       "       0.09038991, 0.09038997, 0.09039003, 0.09039015, 0.09038997,\n",
       "       0.09038997, 0.09039009, 0.09038997, 0.09039003, 0.09039009,\n",
       "       0.09038991, 0.09038997, 0.09039003, 0.09038991, 0.09038997,\n",
       "       0.09039003, 0.09039009, 0.09038991, 0.09039003, 0.09039009,\n",
       "       0.09038997, 0.09038997, 0.09039003, 0.09038991, 0.09039003,\n",
       "       0.09039003, 0.09038991, 0.09038997, 0.09039003, 0.09039009,\n",
       "       0.09038997, 0.09039003, 0.09039009, 0.09038997, 0.09038997,\n",
       "       0.09039003, 0.09038997, 0.09038997, 0.09039003, 0.09038991,\n",
       "       0.09038997, 0.09039003, 0.09039009, 0.09038997, 0.09039003,\n",
       "       0.09039003, 0.09038997, 0.09038997, 0.09039003, 0.09038997,\n",
       "       0.09038997, 0.09038997, 0.09039009, 0.09038997, 0.09039003,\n",
       "       0.09039003, 0.09038997, 0.09039003, 0.09039003], dtype=float32)"
      ]
     },
     "execution_count": 14,
     "metadata": {},
     "output_type": "execute_result"
    }
   ],
   "source": [
    "1 - average_rate(-csg[1:], gross_wage[1:])"
   ]
  },
  {
   "cell_type": "code",
   "execution_count": 15,
   "metadata": {},
   "outputs": [
    {
     "data": {
      "text/plain": [
       "[<matplotlib.lines.Line2D at 0x7f7097d53cf8>]"
      ]
     },
     "execution_count": 15,
     "metadata": {},
     "output_type": "execute_result"
    },
    {
     "data": {
      "image/png": "[encoded data removed]",
      "text/plain": [
       "<Figure size 432x288 with 1 Axes>"
      ]
     },
     "metadata": {
      "needs_background": "light"
     },
     "output_type": "display_data"
    }
   ],
   "source": [
    "plt.ylim(0,0.1)\n",
    "plt.plot(gross_wage[1:], 1-average_rate(-csg[1:], gross_wage[1:]))"
   ]
  }
 ],
 "metadata": {
  "anaconda-cloud": {},
  "kernelspec": {
   "display_name": "Python 3",
   "language": "python",
   "name": "python3"
  },
  "language_info": {
   "codemirror_mode": {
    "name": "ipython",
    "version": 3
   },
   "file_extension": ".py",
   "mimetype": "text/x-python",
   "name": "python",
   "nbconvert_exporter": "python",
   "pygments_lexer": "ipython3",
   "version": "3.7.0"
  }
 },
 "nbformat": 4,
 "nbformat_minor": 1
}
