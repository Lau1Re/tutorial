{
 "cells": [
  {
   "cell_type": "markdown",
   "metadata": {},
   "source": [
    "# The use of axes\n",
    "\n",
    "Axes are a great option to define at the simulation declaration in order to make a variable v evolves in a given interval.\n",
    "\n",
    "We'll show this opportunity with the illustration of the evolution of average rate and marginal rate of the French Income Tax."
   ]
  },
  {
   "cell_type": "markdown",
   "metadata": {},
   "source": [
    "#### Initialisation"
   ]
  },
  {
   "cell_type": "markdown",
   "metadata": {},
   "source": [
    "We import essential modules and initialize the tax and benefit system\n"
   ]
  },
  {
   "cell_type": "code",
   "execution_count": 1,
   "metadata": {},
   "outputs": [],
   "source": [
    "%matplotlib inline\n",
    "import matplotlib.pyplot as plt"
   ]
  },
  {
   "cell_type": "code",
   "execution_count": 2,
   "metadata": {},
   "outputs": [
    {
     "name": "stderr",
     "output_type": "stream",
     "text": [
      "libyaml is not installed in your environment. This can make OpenFisca slower to start. Once you have installed libyaml, run 'pip uninstall pyyaml && pip install pyyaml --no-cache-dir' so that it is used in your Python environment.\n",
      "\n"
     ]
    }
   ],
   "source": [
    "from openfisca_france import FranceTaxBenefitSystem\n",
    "from openfisca_france.scenarios import init_single_entity\n",
    "\n",
    "tax_benefit_system = FranceTaxBenefitSystem()  # Create an instance of French Tax and Benefit system"
   ]
  },
  {
   "cell_type": "markdown",
   "metadata": {},
   "source": [
    "## Income Tax Concavity : a progressive system ?\n",
    "\n",
    "Let's observe how to declare a simulation with an income (`salaire_de_base`) evolving between 0 euros and 100000 euros per year."
   ]
  },
  {
   "cell_type": "code",
   "execution_count": 3,
   "metadata": {},
   "outputs": [],
   "source": [
    "scenario = init_single_entity(\n",
    "    tax_benefit_system.new_scenario(),\n",
    "    \n",
    "    # Axe declaration\n",
    "    axes = [[\n",
    "        dict(                       #  in a dictionary\n",
    "            count = 100,            # 'count' : indicates the number of step\n",
    "            min = 0,\n",
    "            max = 100000,\n",
    "            name = 'salaire_de_base', # the variable you want to make evolve\n",
    "            ),\n",
    "        ]],\n",
    "    \n",
    "    period = 2014,\n",
    "    parent1 = dict(\n",
    "        date_naissance = '1980-01-01',\n",
    "    )\n",
    ")\n",
    "\n",
    "simulation = scenario.new_simulation()"
   ]
  },
  {
   "cell_type": "code",
   "execution_count": 4,
   "metadata": {},
   "outputs": [
    {
     "data": {
      "text/plain": [
       "array([     0.     ,   1010.10114,   2020.2023 ,   3030.3027 ,\n",
       "         4040.4045 ,   5050.5054 ,   6060.6055 ,   7070.707  ,\n",
       "         8080.809  ,   9090.909  ,  10101.011  ,  11111.11   ,\n",
       "        12121.211  ,  13131.315  ,  14141.414  ,  15151.515  ,\n",
       "        16161.618  ,  17171.717  ,  18181.818  ,  19191.918  ,\n",
       "        20202.021  ,  21212.121  ,  22222.22   ,  23232.326  ,\n",
       "        24242.422  ,  25252.525  ,  26262.63   ,  27272.725  ,\n",
       "        28282.828  ,  29292.932  ,  30303.03   ,  31313.13   ,\n",
       "        32323.236  ,  33333.332  ,  34343.434  ,  35353.54   ,\n",
       "        36363.637  ,  37373.74   ,  38383.836  ,  39393.938  ,\n",
       "        40404.043  ,  41414.14   ,  42424.242  ,  43434.344  ,\n",
       "        44444.44   ,  45454.547  ,  46464.652  ,  47474.75   ,\n",
       "        48484.844  ,  49494.94   ,  50505.05   ,  51515.152  ,\n",
       "        52525.26   ,  53535.363  ,  54545.45   ,  55555.55   ,\n",
       "        56565.656  ,  57575.76   ,  58585.863  ,  59595.953  ,\n",
       "        60606.06   ,  61616.16   ,  62626.26   ,  63636.37   ,\n",
       "        64646.473  ,  65656.555  ,  66666.664  ,  67676.766  ,\n",
       "        68686.87   ,  69696.98   ,  70707.08   ,  71717.164  ,\n",
       "        72727.27   ,  73737.375  ,  74747.48   ,  75757.586  ,\n",
       "        76767.67   ,  77777.78   ,  78787.875  ,  79797.97   ,\n",
       "        80808.086  ,  81818.164  ,  82828.28   ,  83838.38   ,\n",
       "        84848.484  ,  85858.586  ,  86868.69   ,  87878.805  ,\n",
       "        88888.88   ,  89899.     ,  90909.09   ,  91919.19   ,\n",
       "        92929.305  ,  93939.38   ,  94949.5    ,  95959.59   ,\n",
       "        96969.69   ,  97979.805  ,  98989.88   , 100000.01   ],\n",
       "      dtype=float32)"
      ]
     },
     "execution_count": 4,
     "metadata": {},
     "output_type": "execute_result"
    }
   ],
   "source": [
    "simulation.calculate_add('salaire_de_base', 2014)"
   ]
  },
  {
   "cell_type": "code",
   "execution_count": 5,
   "metadata": {},
   "outputs": [],
   "source": [
    "income_tax = - simulation.calculate('irpp', 2014)\n",
    "gross_wage = simulation.calculate_add('salaire_de_base', 2014)\n",
    "taxable_income = simulation.calculate_add('salaire_imposable', 2014)\n"
   ]
  },
  {
   "cell_type": "code",
   "execution_count": 6,
   "metadata": {},
   "outputs": [
    {
     "data": {
      "text/plain": [
       "Text(0.5, 0, 'Gross Wage')"
      ]
     },
     "execution_count": 6,
     "metadata": {},
     "output_type": "execute_result"
    },
    {
     "data": {
      "image/png": "[encoded data removed]",
      "text/plain": [
       "<Figure size 432x288 with 1 Axes>"
      ]
     },
     "metadata": {
      "needs_background": "light"
     },
     "output_type": "display_data"
    }
   ],
   "source": [
    "plt.plot(gross_wage,income_tax)\n",
    "plt.ylabel(u\"Tax Income\")\n",
    "plt.xlabel(u\"Gross Wage\")"
   ]
  },
  {
   "cell_type": "markdown",
   "metadata": {},
   "source": [
    "**NB** : The Income Tax is flat in opposite to common opinion."
   ]
  },
  {
   "cell_type": "markdown",
   "metadata": {},
   "source": [
    "## Average rate"
   ]
  },
  {
   "cell_type": "code",
   "execution_count": 7,
   "metadata": {},
   "outputs": [
    {
     "name": "stderr",
     "output_type": "stream",
     "text": [
      "/Users/sch/.local/share/virtualenvs/tut78/lib/python3.7/site-packages/ipykernel_launcher.py:1: RuntimeWarning: invalid value encountered in true_divide\n",
      "  \"\"\"Entry point for launching an IPython kernel.\n"
     ]
    }
   ],
   "source": [
    "average_rate = income_tax / gross_wage\n",
    "# the 1st value of gross_wage is zero, so there's a warning"
   ]
  },
  {
   "cell_type": "code",
   "execution_count": 8,
   "metadata": {},
   "outputs": [
    {
     "data": {
      "text/plain": [
       "Text(0.5, 0, 'Gross Wage')"
      ]
     },
     "execution_count": 8,
     "metadata": {},
     "output_type": "execute_result"
    },
    {
     "data": {
      "image/png": "[encoded data removed]",
      "text/plain": [
       "<Figure size 432x288 with 1 Axes>"
      ]
     },
     "metadata": {
      "needs_background": "light"
     },
     "output_type": "display_data"
    }
   ],
   "source": [
    "plt.plot(gross_wage, average_rate)\n",
    "plt.ylabel(\"Averate Tax Rate\")\n",
    "plt.xlabel(\"Gross Wage\")"
   ]
  },
  {
   "cell_type": "markdown",
   "metadata": {},
   "source": [
    "## Marginal rate"
   ]
  },
  {
   "cell_type": "code",
   "execution_count": 9,
   "metadata": {},
   "outputs": [],
   "source": [
    "marginal_rate =  (income_tax[:-1] - income_tax[1:]) / (taxable_income[:-1] - taxable_income[1:] ) "
   ]
  },
  {
   "cell_type": "code",
   "execution_count": 10,
   "metadata": {},
   "outputs": [
    {
     "data": {
      "text/plain": [
       "Text(0.5, 0, 'Gross Wage')"
      ]
     },
     "execution_count": 10,
     "metadata": {},
     "output_type": "execute_result"
    },
    {
     "data": {
      "image/png": "[encoded data removed]",
      "text/plain": [
       "<Figure size 432x288 with 1 Axes>"
      ]
     },
     "metadata": {
      "needs_background": "light"
     },
     "output_type": "display_data"
    }
   ],
   "source": [
    "plt.plot(gross_wage[:-1], marginal_rate)\n",
    "plt.ylabel(\"Marginal Tax Rate\")\n",
    "plt.xlabel(\"Gross Wage\")"
   ]
  },
  {
   "cell_type": "code",
   "execution_count": 11,
   "metadata": {},
   "outputs": [
    {
     "data": {
      "text/plain": [
       "(0.12598455, 0.26954177)"
      ]
     },
     "execution_count": 11,
     "metadata": {},
     "output_type": "execute_result"
    }
   ],
   "source": [
    "marginal_rate[25], marginal_rate[90]"
   ]
  },
  {
   "cell_type": "markdown",
   "metadata": {},
   "source": [
    "We can see the step in the French Tax scale of 14% and 30% (applied after a 10% deduction on the taxable income) "
   ]
  },
  {
   "cell_type": "markdown",
   "metadata": {},
   "source": [
    "### Notice :  dedicated fonctions in OpenFisca"
   ]
  },
  {
   "cell_type": "markdown",
   "metadata": {},
   "source": [
    "Marginal and Average rate exist as functions implemented in OpenFisca. You can apply them on several income concept"
   ]
  },
  {
   "cell_type": "code",
   "execution_count": 12,
   "metadata": {},
   "outputs": [],
   "source": [
    "from openfisca_core.rates import average_rate, marginal_rate"
   ]
  },
  {
   "cell_type": "code",
   "execution_count": 13,
   "metadata": {},
   "outputs": [
    {
     "data": {
      "text/plain": [
       "array([    0.      ,   -74.434586,  -148.86015 ,  -223.29471 ,\n",
       "        -297.7293  ,  -372.15488 ,  -446.58942 ,  -521.024   ,\n",
       "        -595.4586  ,  -669.8843  ,  -744.3187  ,  -818.7533  ,\n",
       "        -893.17883 ,  -967.61346 , -1042.048   , -1116.4736  ,\n",
       "       -1190.9083  , -1265.3428  , -1339.7686  , -1414.203   ,\n",
       "       -1488.6375  , -1563.072   , -1637.4978  , -1711.9324  ,\n",
       "       -1786.367   , -1860.7925  , -1935.2269  , -2009.6617  ,\n",
       "       -2084.0872  , -2158.5217  , -2232.9565  , -2307.3813  ,\n",
       "       -2381.8167  , -2456.2505  , -2530.6855  , -2605.1108  ,\n",
       "       -2679.5457  , -2753.9802  , -2828.406   , -2902.84    ,\n",
       "       -2977.275   , -3051.7007  , -3126.1353  , -3200.5698  ,\n",
       "       -3275.0044  , -3349.4302  , -3423.8647  , -3498.2988  ,\n",
       "       -3572.724   , -3647.1592  , -3721.5942  , -3796.019   ,\n",
       "       -3870.4539  , -3944.8887  , -4019.3145  , -4093.7483  ,\n",
       "       -4168.183   , -4242.618   , -4317.0435  , -4391.4775  ,\n",
       "       -4465.913   , -4540.339   , -4614.773   , -4689.2065  ,\n",
       "       -4763.6333  , -4838.0674  , -4912.501   , -4986.9272  ,\n",
       "       -5061.3623  , -5135.797   , -5210.2305  , -5284.657   ,\n",
       "       -5359.0913  , -5433.5264  , -5507.951   , -5582.386   ,\n",
       "       -5656.821   , -5731.247   , -5805.68    , -5880.1157  ,\n",
       "       -5954.541   , -6028.975   , -6103.4097  , -6177.8447  ,\n",
       "       -6252.2705  , -6326.7046  , -6401.1396  , -6475.5654  ,\n",
       "       -6550.      , -6624.4346  , -6698.8604  , -6773.295   ,\n",
       "       -6847.7295  , -6922.163   , -6996.589   , -7071.024   ,\n",
       "       -7145.458   , -7219.884   , -7294.3184  , -7368.753   ],\n",
       "      dtype=float32)"
      ]
     },
     "execution_count": 13,
     "metadata": {},
     "output_type": "execute_result"
    }
   ],
   "source": [
    "csg = simulation.calculate_add('csg', period = 2014)\n",
    "csg"
   ]
  },
  {
   "cell_type": "code",
   "execution_count": 14,
   "metadata": {},
   "outputs": [
    {
     "data": {
      "text/plain": [
       "array([0.07369024, 0.07368577, 0.07368726, 0.07368797, 0.07368666,\n",
       "       0.07368726, 0.07368767, 0.07368797, 0.07368726, 0.07368755,\n",
       "       0.07368779, 0.07368726, 0.07368749, 0.07368767, 0.07368726,\n",
       "       0.07368743, 0.07368761, 0.07368726, 0.07368743, 0.07368755,\n",
       "       0.07368767, 0.07368743, 0.07368749, 0.07368767, 0.07368737,\n",
       "       0.07368749, 0.07368761, 0.07368737, 0.07368743, 0.07368755,\n",
       "       0.07368731, 0.07368743, 0.07368749, 0.07368761, 0.07368743,\n",
       "       0.07368749, 0.07368755, 0.07368743, 0.07368749, 0.07368755,\n",
       "       0.07368743, 0.07368749, 0.07368755, 0.07368761, 0.07368743,\n",
       "       0.07368749, 0.07368755, 0.07368743, 0.07368749, 0.07368755,\n",
       "       0.07368743, 0.07368749, 0.07368755, 0.07368743, 0.07368749,\n",
       "       0.07368755, 0.07368755, 0.07368743, 0.07368749, 0.07368755,\n",
       "       0.07368749, 0.07368749, 0.07368755, 0.07368743, 0.07368749,\n",
       "       0.07368749, 0.07368743, 0.07368749, 0.07368749, 0.07368755,\n",
       "       0.07368749, 0.07368749, 0.07368755, 0.07368743, 0.07368749,\n",
       "       0.07368755, 0.07368743, 0.07368749, 0.07368755, 0.07368743,\n",
       "       0.07368749, 0.07368749, 0.07368755, 0.07368749, 0.07368749,\n",
       "       0.07368755, 0.07368743, 0.07368749, 0.07368755, 0.07368743,\n",
       "       0.07368749, 0.07368749, 0.07368755, 0.07368749, 0.07368749,\n",
       "       0.07368755, 0.07368749, 0.07368749, 0.07368755], dtype=float32)"
      ]
     },
     "execution_count": 14,
     "metadata": {},
     "output_type": "execute_result"
    }
   ],
   "source": [
    "1 - average_rate(-csg[1:], gross_wage[1:])"
   ]
  },
  {
   "cell_type": "code",
   "execution_count": 15,
   "metadata": {},
   "outputs": [
    {
     "data": {
      "text/plain": [
       "[<matplotlib.lines.Line2D at 0x10f57f0f0>]"
      ]
     },
     "execution_count": 15,
     "metadata": {},
     "output_type": "execute_result"
    },
    {
     "data": {
      "image/png": "[encoded data removed]",
      "text/plain": [
       "<Figure size 432x288 with 1 Axes>"
      ]
     },
     "metadata": {
      "needs_background": "light"
     },
     "output_type": "display_data"
    }
   ],
   "source": [
    "plt.ylim(0,0.1)\n",
    "plt.plot(gross_wage[1:], 1-average_rate(-csg[1:], gross_wage[1:]))"
   ]
  },
  {
   "cell_type": "code",
   "execution_count": null,
   "metadata": {},
   "outputs": [],
   "source": []
  }
 ],
 "metadata": {
  "anaconda-cloud": {},
  "kernelspec": {
   "display_name": "Python 3",
   "language": "python",
   "name": "python3"
  },
  "language_info": {
   "codemirror_mode": {
    "name": "ipython",
    "version": 3
   },
   "file_extension": ".py",
   "mimetype": "text/x-python",
   "name": "python",
   "nbconvert_exporter": "python",
   "pygments_lexer": "ipython3",
   "version": "3.7.0"
  }
 },
 "nbformat": 4,
 "nbformat_minor": 1
}
