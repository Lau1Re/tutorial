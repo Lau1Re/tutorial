{
 "cells": [
  {
   "cell_type": "markdown",
   "metadata": {},
   "source": [
    "# The use of axes\n",
    "\n",
    "Axes are a great option to add at the scenario declaration in order to make a variable v evolves in a given interval.\n",
    "\n",
    "We'll show this opportunity with the illustration of the evolution of average rate and marginal rate of the French Income Tax"
   ]
  },
  {
   "cell_type": "markdown",
   "metadata": {},
   "source": [
    "#### Initialisation"
   ]
  },
  {
   "cell_type": "markdown",
   "metadata": {},
   "source": [
    "We import essential modules and initialize the tax and benefit system\n"
   ]
  },
  {
   "cell_type": "code",
   "execution_count": null,
   "metadata": {},
   "outputs": [],
   "source": [
    "%matplotlib inline\n",
    "import matplotlib.pyplot as plt"
   ]
  },
  {
   "cell_type": "code",
   "execution_count": null,
   "metadata": {},
   "outputs": [],
   "source": [
    "from openfisca_france import FranceTaxBenefitSystem   \n",
    "tax_benefit_system = FranceTaxBenefitSystem()  # Create an instance of French Tax and Benefit system"
   ]
  },
  {
   "cell_type": "markdown",
   "metadata": {},
   "source": [
    "## Income Tax Concavity : a progressive system ?\n",
    "\n",
    "Let's observe how to declare a scenario  with an income evolving between 0 euros and 100000 euros per year."
   ]
  },
  {
   "cell_type": "code",
   "execution_count": null,
   "metadata": {},
   "outputs": [],
   "source": [
    "scenario = tax_benefit_system.new_scenario()\n",
    "\n",
    "scenario.init_single_entity(\n",
    "    \n",
    "    # Axe declaration\n",
    "    axes = [\n",
    "        dict(                       #  in a dictionary\n",
    "            count = 100,            # 'count' : indicates the number of step\n",
    "            min = 0,\n",
    "            max = 100000,\n",
    "            name = 'salaire_de_base', # the variable you want to make evolve\n",
    "            ),\n",
    "        ],\n",
    "    \n",
    "    \n",
    "    period = 2014,\n",
    "     parent1 = dict(\n",
    "        date_naissance = '1980-01-01',\n",
    "         )\n",
    "    )\n",
    "\n",
    "simulation = scenario.new_simulation()"
   ]
  },
  {
   "cell_type": "code",
   "execution_count": null,
   "metadata": {},
   "outputs": [],
   "source": [
    "simulation.calculate_add('salaire_de_base', 2014)"
   ]
  },
  {
   "cell_type": "code",
   "execution_count": null,
   "metadata": {},
   "outputs": [],
   "source": [
    "income_tax = - simulation.calculate('irpp', 2014)\n",
    "gross_wage = simulation.calculate_add('salaire_de_base', 2014)"
   ]
  },
  {
   "cell_type": "code",
   "execution_count": null,
   "metadata": {},
   "outputs": [],
   "source": [
    "plt.plot(gross_wage,income_tax)\n",
    "plt.ylabel(u\"Tax Income\")\n",
    "plt.xlabel(u\"Gross Wage\")"
   ]
  },
  {
   "cell_type": "markdown",
   "metadata": {},
   "source": [
    "**NB** : The Income Tax is flat in opposite to common opinion."
   ]
  },
  {
   "cell_type": "markdown",
   "metadata": {},
   "source": [
    "## Average rate"
   ]
  },
  {
   "cell_type": "code",
   "execution_count": null,
   "metadata": {},
   "outputs": [],
   "source": [
    "average_rate = income_tax / gross_wage  "
   ]
  },
  {
   "cell_type": "code",
   "execution_count": null,
   "metadata": {},
   "outputs": [],
   "source": [
    "plt.plot(gross_wage, average_rate)\n",
    "plt.ylabel(\"Averate Tax Rate\")\n",
    "plt.xlabel(\"Gross Wage\")"
   ]
  },
  {
   "cell_type": "markdown",
   "metadata": {},
   "source": [
    "## Marginal rate"
   ]
  },
  {
   "cell_type": "code",
   "execution_count": null,
   "metadata": {},
   "outputs": [],
   "source": [
    "marginal_rate =  (income_tax[:-1] - income_tax[1:]) / (gross_wage[:-1] - gross_wage[1:] ) "
   ]
  },
  {
   "cell_type": "code",
   "execution_count": null,
   "metadata": {},
   "outputs": [],
   "source": [
    "plt.plot(gross_wage[:-1], marginal_rate)\n",
    "plt.ylabel(\"Marginal Tax Rate\")\n",
    "plt.xlabel(\"Gross Wage\")"
   ]
  },
  {
   "cell_type": "code",
   "execution_count": null,
   "metadata": {},
   "outputs": [],
   "source": [
    "marginal_rate[40], marginal_rate[95]"
   ]
  },
  {
   "cell_type": "markdown",
   "metadata": {},
   "source": [
    "We can see the step in the French Tax scale of 14% and 30%"
   ]
  },
  {
   "cell_type": "markdown",
   "metadata": {},
   "source": [
    "### Notice :  dedicated fonctions in OpenFisca"
   ]
  },
  {
   "cell_type": "markdown",
   "metadata": {},
   "source": [
    "Marginal and Average rate exist as functions implemented in OpenFisca. You can apply them on several income concept"
   ]
  },
  {
   "cell_type": "code",
   "execution_count": null,
   "metadata": {},
   "outputs": [],
   "source": [
    "from openfisca_core.rates import average_rate, marginal_rate"
   ]
  },
  {
   "cell_type": "code",
   "execution_count": null,
   "metadata": {},
   "outputs": [],
   "source": [
    "csg = simulation.calculate('csg', 2014)\n",
    "csg"
   ]
  },
  {
   "cell_type": "code",
   "execution_count": null,
   "metadata": {},
   "outputs": [],
   "source": [
    "1 - average_rate(-csg[1:], gross_wage[1:])"
   ]
  },
  {
   "cell_type": "code",
   "execution_count": null,
   "metadata": {},
   "outputs": [],
   "source": [
    "plt.ylim(-0.5,0.5)\n",
    "plt.plot(gross_wage[1:], 1-average_rate(-csg[1:], gross_wage[1:]))"
   ]
  },
  {
   "cell_type": "code",
   "execution_count": null,
   "metadata": {},
   "outputs": [],
   "source": [
    "plt.plot(gross_wage[1:], 1 - marginal_rate(-csg, gross_wage))\n",
    "plt.ylim(-0.5,0.5)"
   ]
  },
  {
   "cell_type": "code",
   "execution_count": null,
   "metadata": {},
   "outputs": [],
   "source": []
  }
 ],
 "metadata": {
  "anaconda-cloud": {},
  "kernelspec": {
   "display_name": "Python 3",
   "language": "python",
   "name": "python3"
  },
  "language_info": {
   "codemirror_mode": {
    "name": "ipython",
    "version": 3
   },
   "file_extension": ".py",
   "mimetype": "text/x-python",
   "name": "python",
   "nbconvert_exporter": "python",
   "pygments_lexer": "ipython3",
   "version": "3.7.0"
  }
 },
 "nbformat": 4,
 "nbformat_minor": 1
}
