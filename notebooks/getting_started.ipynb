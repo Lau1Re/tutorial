{
 "cells": [
  {
   "cell_type": "markdown",
   "metadata": {},
   "source": [
    "<img src=\"http://www.openfisca.fr/hotlinks/logo-openfisca.svg\" width=\"198\" align=\"right\">\n",
    "<h1 id=\"tocheading\">Getting Started</h1>\n",
    "\n",
    "This notebook illustrates the [key concepts](https://doc.openfisca.fr/en/key-concepts.html) of OpenFisca that you will find in the documentation."
   ]
  },
  {
   "cell_type": "markdown",
   "metadata": {},
   "source": [
    "<h1 id=\"tocheading\">Table of Contents</h1>\n",
    "<div id=\"toc\"></div>\n"
   ]
  },
  {
   "cell_type": "markdown",
   "metadata": {},
   "source": [
    "## Calculate a variable"
   ]
  },
  {
   "cell_type": "markdown",
   "metadata": {},
   "source": [
    "Do some imports"
   ]
  },
  {
   "cell_type": "code",
   "execution_count": 1,
   "metadata": {},
   "outputs": [],
   "source": [
    "from openfisca_france import FranceTaxBenefitSystem"
   ]
  },
  {
   "cell_type": "markdown",
   "metadata": {},
   "source": [
    "Initialize the french [Tax and Benefit system](https://doc.openfisca.fr/en/tax_and_benefit_system.html) : it launches the entire legislation."
   ]
  },
  {
   "cell_type": "code",
   "execution_count": 2,
   "metadata": {},
   "outputs": [],
   "source": [
    "tax_benefit_system = FranceTaxBenefitSystem()"
   ]
  },
  {
   "cell_type": "markdown",
   "metadata": {},
   "source": [
    "Create a [scenario](https://doc.openfisca.fr/en/input_data.html#scenario): first step to give a familial situation for which you want to calculate taxes or benefits."
   ]
  },
  {
   "cell_type": "code",
   "execution_count": 3,
   "metadata": {
    "scrolled": false
   },
   "outputs": [],
   "source": [
    "scenario = tax_benefit_system.new_scenario()"
   ]
  },
  {
   "cell_type": "markdown",
   "metadata": {},
   "source": [
    "Initialize a test case (the familial situation) in the scenario:\n",
    "here we have one parent and two children."
   ]
  },
  {
   "cell_type": "code",
   "execution_count": 4,
   "metadata": {},
   "outputs": [
    {
     "data": {
      "text/plain": [
       "<openfisca_france.scenarios.Scenario at 0x10d1e9b00>"
      ]
     },
     "execution_count": 4,
     "metadata": {},
     "output_type": "execute_result"
    }
   ],
   "source": [
    "scenario.init_single_entity(\n",
    "    period = 2015,\n",
    "    parent1 = dict(\n",
    "        age = 30,\n",
    "        salaire_de_base = 20000,\n",
    "        ),\n",
    "    enfants = [\n",
    "        dict(age = 12),\n",
    "        dict(age = 18),\n",
    "        ],\n",
    "    )"
   ]
  },
  {
   "cell_type": "markdown",
   "metadata": {},
   "source": [
    "Create a [simulation](https://doc.openfisca.fr/en/simulation.html#simulation--the-framework-of-computation): the OpenFisca frame for calculating taxes or benefits."
   ]
  },
  {
   "cell_type": "code",
   "execution_count": 5,
   "metadata": {},
   "outputs": [],
   "source": [
    "simulation = scenario.new_simulation()"
   ]
  },
  {
   "cell_type": "markdown",
   "metadata": {},
   "source": [
    "Calculate a variable : `\"af\"` (allocations familiales) for example."
   ]
  },
  {
   "cell_type": "code",
   "execution_count": 6,
   "metadata": {},
   "outputs": [
    {
     "data": {
      "text/plain": [
       "array([129.99], dtype=float32)"
      ]
     },
     "execution_count": 6,
     "metadata": {},
     "output_type": "execute_result"
    }
   ],
   "source": [
    "simulation.calculate('af', '2015-01')"
   ]
  },
  {
   "cell_type": "markdown",
   "metadata": {},
   "source": [
    "## Test the impact of a reform"
   ]
  },
  {
   "cell_type": "markdown",
   "metadata": {},
   "source": [
    "*An reform represents a modified version of the real Tax and Benefit legislation* \n",
    "\n",
    "Reforms are gather in the module [`Reform`](https://github.com/openfisca/openfisca-france/tree/master/openfisca_france/reforms) of OpenFisca.\n",
    "\n",
    "You have then to import the module extension corresponding to the reform of your concern.\n",
    "\n",
    "Here we choose the fiscal reform of Landais, Piketty and Saez on the income tax (http://www.revolution-fiscale.fr/la-reforme-proposee). \n",
    "\n",
    "It is already implemented in OpenFisca under the name `landais_piketty_saez` ."
   ]
  },
  {
   "cell_type": "code",
   "execution_count": 7,
   "metadata": {},
   "outputs": [],
   "source": [
    "from openfisca_france.reforms import landais_piketty_saez"
   ]
  },
  {
   "cell_type": "markdown",
   "metadata": {},
   "source": [
    "Create a modified version of the tax and benefit system, affected by the changes introduced by the reform"
   ]
  },
  {
   "cell_type": "code",
   "execution_count": 8,
   "metadata": {},
   "outputs": [],
   "source": [
    "reform = landais_piketty_saez.landais_piketty_saez(tax_benefit_system)"
   ]
  },
  {
   "cell_type": "markdown",
   "metadata": {},
   "source": [
    "Create the scenario you want to test."
   ]
  },
  {
   "cell_type": "code",
   "execution_count": 9,
   "metadata": {},
   "outputs": [],
   "source": [
    "def init_profile(scenario):\n",
    "    scenario.init_single_entity(\n",
    "        period = '2013',\n",
    "        parent1 = dict(\n",
    "            age = 40,\n",
    "            salaire_de_base = 50000,\n",
    "            ),\n",
    "        )\n",
    "    return scenario"
   ]
  },
  {
   "cell_type": "markdown",
   "metadata": {},
   "source": [
    "With the reform"
   ]
  },
  {
   "cell_type": "code",
   "execution_count": 10,
   "metadata": {},
   "outputs": [
    {
     "data": {
      "text/plain": [
       "array([13554.031], dtype=float32)"
      ]
     },
     "execution_count": 10,
     "metadata": {},
     "output_type": "execute_result"
    }
   ],
   "source": [
    "#Indicate that you want to perfom the reform on this scenario\n",
    "reform_scenario = init_profile(reform.new_scenario())\n",
    "\n",
    "#Simulate the reform\n",
    "reform_simulation = reform_scenario.new_simulation() \n",
    "\n",
    "# Choose the variable you want to calcul : here the disposable income, \"revenu_disponible\"\n",
    "reform_simulation.calculate('revenu_disponible', '2013')"
   ]
  },
  {
   "cell_type": "markdown",
   "metadata": {},
   "source": [
    "Without the reform: the counterfactual"
   ]
  },
  {
   "cell_type": "code",
   "execution_count": 11,
   "metadata": {},
   "outputs": [
    {
     "data": {
      "text/plain": [
       "array([33978.87], dtype=float32)"
      ]
     },
     "execution_count": 11,
     "metadata": {},
     "output_type": "execute_result"
    }
   ],
   "source": [
    "#Indicate that you want to perfom the standard system on this scenario\n",
    "reference_scenario = init_profile(tax_benefit_system.new_scenario())\n",
    "\n",
    "#Simulate the standard scenario\n",
    "reference_simulation = reference_scenario.new_simulation()\n",
    "\n",
    "# Choose the variable you want to calcul\n",
    "reference_simulation.calculate('revenu_disponible', '2013')"
   ]
  },
  {
   "cell_type": "markdown",
   "metadata": {},
   "source": [
    "## Trace the calculation of a variable\n",
    "\n",
    "Thanks to the Trace tool you can see all the details of the variable calculation depending on the scenario you made."
   ]
  },
  {
   "cell_type": "code",
   "execution_count": 12,
   "metadata": {
    "scrolled": true
   },
   "outputs": [
    {
     "ename": "AttributeError",
     "evalue": "module 'urllib' has no attribute 'urlencode'",
     "output_type": "error",
     "traceback": [
      "\u001b[0;31m---------------------------------------------------------------------------\u001b[0m",
      "\u001b[0;31mAttributeError\u001b[0m                            Traceback (most recent call last)",
      "\u001b[0;32m<ipython-input-12-c809734e760c>\u001b[0m in \u001b[0;36m<module>\u001b[0;34m()\u001b[0m\n\u001b[1;32m      1\u001b[0m \u001b[0;32mfrom\u001b[0m \u001b[0mopenfisca_core\u001b[0m \u001b[0;32mimport\u001b[0m \u001b[0mtools\u001b[0m\u001b[0;34m\u001b[0m\u001b[0m\n\u001b[1;32m      2\u001b[0m print(tools.get_trace_tool_link(scenario, variables = ['irpp'],\n\u001b[0;32m----> 3\u001b[0;31m                                 api_url = 'http://api.openfisca.fr', trace_tool_url =  'http://www.openfisca.fr/tools/trace'))\n\u001b[0m",
      "\u001b[0;32m~/.local/share/virtualenvs/Python_3_7_0/lib/python3.7/site-packages/openfisca_core/tools/__init__.py\u001b[0m in \u001b[0;36mget_trace_tool_link\u001b[0;34m(scenario, variables, api_url, trace_tool_url)\u001b[0m\n\u001b[1;32m     75\u001b[0m         \u001b[0;34m'variables'\u001b[0m\u001b[0;34m:\u001b[0m \u001b[0mvariables\u001b[0m\u001b[0;34m,\u001b[0m\u001b[0;34m\u001b[0m\u001b[0m\n\u001b[1;32m     76\u001b[0m         }\n\u001b[0;32m---> 77\u001b[0;31m     url = trace_tool_url + '?' + urllib.urlencode({\n\u001b[0m\u001b[1;32m     78\u001b[0m         \u001b[0;34m'simulation'\u001b[0m\u001b[0;34m:\u001b[0m \u001b[0mjson\u001b[0m\u001b[0;34m.\u001b[0m\u001b[0mdumps\u001b[0m\u001b[0;34m(\u001b[0m\u001b[0msimulation_json\u001b[0m\u001b[0;34m)\u001b[0m\u001b[0;34m,\u001b[0m\u001b[0;34m\u001b[0m\u001b[0m\n\u001b[1;32m     79\u001b[0m         \u001b[0;34m'api_url'\u001b[0m\u001b[0;34m:\u001b[0m \u001b[0mapi_url\u001b[0m\u001b[0;34m,\u001b[0m\u001b[0;34m\u001b[0m\u001b[0m\n",
      "\u001b[0;31mAttributeError\u001b[0m: module 'urllib' has no attribute 'urlencode'"
     ]
    }
   ],
   "source": [
    "from openfisca_core import tools\n",
    "print(tools.get_trace_tool_link(scenario, variables = ['irpp'],\n",
    "                                api_url = 'http://api.openfisca.fr', trace_tool_url =  'http://www.openfisca.fr/tools/trace'))"
   ]
  },
  {
   "cell_type": "code",
   "execution_count": 13,
   "metadata": {},
   "outputs": [
    {
     "data": {
      "application/javascript": [
       "$.getScript('https://kmahelona.github.io/ipython_notebook_goodies/ipython_notebook_toc.js')"
      ],
      "text/plain": [
       "<IPython.core.display.Javascript object>"
      ]
     },
     "metadata": {},
     "output_type": "display_data"
    }
   ],
   "source": [
    "%%javascript\n",
    "$.getScript('https://kmahelona.github.io/ipython_notebook_goodies/ipython_notebook_toc.js')"
   ]
  },
  {
   "cell_type": "code",
   "execution_count": null,
   "metadata": {},
   "outputs": [],
   "source": []
  }
 ],
 "metadata": {
  "kernelspec": {
   "display_name": "Python 3",
   "language": "python",
   "name": "python3"
  },
  "language_info": {
   "codemirror_mode": {
    "name": "ipython",
    "version": 3
   },
   "file_extension": ".py",
   "mimetype": "text/x-python",
   "name": "python",
   "nbconvert_exporter": "python",
   "pygments_lexer": "ipython3",
   "version": "3.7.0"
  }
 },
 "nbformat": 4,
 "nbformat_minor": 1
}
