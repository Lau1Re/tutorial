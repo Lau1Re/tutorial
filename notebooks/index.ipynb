{
 "cells": [
  {
   "cell_type": "markdown",
   "metadata": {},
   "source": [
    " <img src=\"https://openfisca.org/img/logo-openfisca.svg\" width=\"298\" align=\"right\">\n",
    "<center>\n",
    "<b>\n",
    "<i>\n",
    "<font size = '8' color = 'grey'>\n",
    "<br />\n",
    "<br />\n",
    "Getting Started <br /> <br />\n",
    "with OpenFisca\n",
    "</font>\n",
    "</i>\n",
    "</b>\n",
    "\n",
    "\n",
    "</center>\n",
    "<br />\n",
    "<br />\n",
    "<br />\n",
    "<br />\n",
    "\n",
    "<center>\n",
    "<a href=\"https://openfisca.org/\">OpenFisca</a> is an open micro-simulator of the tax-benefit system.   \n",
    "It allows users to calculate many social benefits and taxes paid by households   \n",
    "and to simulate the impact of reforms on their budget. \n",
    "</center>\n",
    "<br />\n",
    "<br />\n",
    "Here we offer you an environnment to discover OpenFisca thanks to Jupyter Notebook.  \n",
    "You will find tutorials and blank notebooks to dive in this software.\n",
    "\n",
    "For further information please see the [documentation website](https://openfisca.org/doc/).\n",
    "### Tutorials\n",
    "\n",
    "- [Getting Started](getting_started.ipynb)\n",
    "- [How to handle periods](how_to_handle_periods.ipynb)\n",
    "- [How to handle axes](how_to_handle_axes.ipynb)    \n",
    "*Making definition variables evolve in a given range. Illustrated with the Income Tax*\n",
    "\n",
    "### Let's exercise\n",
    "\n",
    "- [Blank Notebook](blank.ipynb)"
   ]
  }
 ],
 "metadata": {
  "anaconda-cloud": {},
  "kernelspec": {
   "display_name": "Python 3",
   "language": "python",
   "name": "python3"
  },
  "language_info": {
   "codemirror_mode": {
    "name": "ipython",
    "version": 3
   },
   "file_extension": ".py",
   "mimetype": "text/x-python",
   "name": "python",
   "nbconvert_exporter": "python",
   "pygments_lexer": "ipython3",
   "version": "3.7.3"
  }
 },
 "nbformat": 4,
 "nbformat_minor": 1
}
